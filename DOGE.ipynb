{
 "cells": [
  {
   "cell_type": "code",
   "execution_count": 64,
   "id": "472fcfe8",
   "metadata": {},
   "outputs": [],
   "source": [
    "import pandas as pd\n",
    "from copy import deepcopy\n",
    "from sklearn.datasets import make_classification\n",
    "from sklearn.model_selection import train_test_split\n",
    "from sklearn.preprocessing import StandardScaler, MinMaxScaler\n",
    "from sklearn.preprocessing import FunctionTransformer\n",
    "from sklearn.pipeline import Pipeline\n",
    "from sklearn.linear_model import LogisticRegression\n",
    "from sklearn.ensemble import RandomForestClassifier\n",
    "from sklearn.metrics import roc_auc_score\n",
    "\n",
    "import numpy as np\n",
    "import matplotlib.pyplot as plt\n",
    "import warnings\n",
    "import lightgbm as lgb\n",
    "import xgboost as xgb\n",
    "from category_encoders import TargetEncoder\n",
    "\n",
    "warnings.filterwarnings('ignore')"
   ]
  },
  {
   "cell_type": "code",
   "execution_count": 49,
   "id": "e06220d6",
   "metadata": {},
   "outputs": [],
   "source": [
    "# init df\n",
    "df = pd.read_csv('titanic.csv', sep=\";\")"
   ]
  },
  {
   "cell_type": "code",
   "execution_count": 50,
   "id": "13369c46",
   "metadata": {},
   "outputs": [],
   "source": [
    "sex = df[['PassengerId', 'Sex']]\n",
    "pd.get_dummies(sex, columns=['Sex'])\n",
    "\n",
    "age = df[['PassengerId', 'Age']]\n",
    "\n",
    "age['age_bins'] = pd.cut(df['Age'], bins=4)\n",
    "\n",
    "age = pd.get_dummies(age, columns=['age_bins'])"
   ]
  },
  {
   "cell_type": "code",
   "execution_count": 96,
   "id": "2ca89de9",
   "metadata": {},
   "outputs": [
    {
     "data": {
      "text/html": [
       "<div>\n",
       "<style scoped>\n",
       "    .dataframe tbody tr th:only-of-type {\n",
       "        vertical-align: middle;\n",
       "    }\n",
       "\n",
       "    .dataframe tbody tr th {\n",
       "        vertical-align: top;\n",
       "    }\n",
       "\n",
       "    .dataframe thead th {\n",
       "        text-align: right;\n",
       "    }\n",
       "</style>\n",
       "<table border=\"1\" class=\"dataframe\">\n",
       "  <thead>\n",
       "    <tr style=\"text-align: right;\">\n",
       "      <th></th>\n",
       "      <th>Age</th>\n",
       "      <th>Fare</th>\n",
       "      <th>Pclass</th>\n",
       "      <th>SibSp</th>\n",
       "      <th>Parch</th>\n",
       "      <th>Sex</th>\n",
       "      <th>Survived</th>\n",
       "    </tr>\n",
       "  </thead>\n",
       "  <tbody>\n",
       "    <tr>\n",
       "      <th>0</th>\n",
       "      <td>22.0</td>\n",
       "      <td>7.2500</td>\n",
       "      <td>3</td>\n",
       "      <td>1</td>\n",
       "      <td>0</td>\n",
       "      <td>1</td>\n",
       "      <td>0</td>\n",
       "    </tr>\n",
       "    <tr>\n",
       "      <th>1</th>\n",
       "      <td>38.0</td>\n",
       "      <td>71.2833</td>\n",
       "      <td>1</td>\n",
       "      <td>1</td>\n",
       "      <td>0</td>\n",
       "      <td>0</td>\n",
       "      <td>1</td>\n",
       "    </tr>\n",
       "    <tr>\n",
       "      <th>2</th>\n",
       "      <td>26.0</td>\n",
       "      <td>7.9250</td>\n",
       "      <td>3</td>\n",
       "      <td>0</td>\n",
       "      <td>0</td>\n",
       "      <td>0</td>\n",
       "      <td>1</td>\n",
       "    </tr>\n",
       "    <tr>\n",
       "      <th>3</th>\n",
       "      <td>35.0</td>\n",
       "      <td>53.1000</td>\n",
       "      <td>1</td>\n",
       "      <td>1</td>\n",
       "      <td>0</td>\n",
       "      <td>0</td>\n",
       "      <td>1</td>\n",
       "    </tr>\n",
       "    <tr>\n",
       "      <th>4</th>\n",
       "      <td>35.0</td>\n",
       "      <td>8.0500</td>\n",
       "      <td>3</td>\n",
       "      <td>0</td>\n",
       "      <td>0</td>\n",
       "      <td>1</td>\n",
       "      <td>0</td>\n",
       "    </tr>\n",
       "  </tbody>\n",
       "</table>\n",
       "</div>"
      ],
      "text/plain": [
       "    Age     Fare  Pclass  SibSp  Parch Sex  Survived\n",
       "0  22.0   7.2500       3      1      0   1         0\n",
       "1  38.0  71.2833       1      1      0   0         1\n",
       "2  26.0   7.9250       3      0      0   0         1\n",
       "3  35.0  53.1000       1      1      0   0         1\n",
       "4  35.0   8.0500       3      0      0   1         0"
      ]
     },
     "execution_count": 96,
     "metadata": {},
     "output_type": "execute_result"
    }
   ],
   "source": [
    "df.head()"
   ]
  },
  {
   "cell_type": "code",
   "execution_count": 59,
   "id": "9b79292c",
   "metadata": {},
   "outputs": [],
   "source": [
    "# preprocess data\n",
    "cols = list(df.columns)\n",
    "a, b = cols.index('Survived'), cols.index('Embarked')\n",
    "cols[b], cols[a] = cols[a], cols[b]\n",
    "df = df[cols]\n",
    "\n",
    "df.drop([\"Embarked\", \"PassengerId\", \"Cabin\", \"Ticket\", \"Name\"], axis=1, inplace=True)\n",
    "\n",
    "df = df.replace({'Sex': {'female': 0, 'male': 1}})\n",
    "\n",
    "df = df.drop(df[(df.Sex == 'unknown') | (df.Age == 'NaN')].index)\n",
    "\n",
    "df = df.dropna()\n",
    "\n",
    "df = df.reset_index(drop=True)\n",
    "\n",
    "cols = list(df.columns)\n",
    "a, b = cols.index('Pclass'), cols.index('Age')\n",
    "cols[b], cols[a] = cols[a], cols[b]\n",
    "df = df[cols]\n",
    "\n",
    "cols = list(df.columns)\n",
    "a, b = cols.index('Fare'), cols.index('Sex')\n",
    "cols[b], cols[a] = cols[a], cols[b]\n",
    "df = df[cols]\n",
    "\n",
    "\n",
    "train_df, test_df = train_test_split(df, test_size=0.3)\n",
    "\n",
    "x_train, y_train = train_df.to_numpy()[:,:-1], train_df.to_numpy()[:,-1]\n",
    "x_test, y_test = test_df.to_numpy()[:,:-1], test_df.to_numpy()[:,-1]\n",
    "\n",
    "\n",
    "std_scaler = StandardScaler().fit(x_train[:, :2])\n",
    "minmax_scaler = MinMaxScaler().fit(x_train[:, 2:])\n",
    "\n",
    "def preprocessor(X):\n",
    "    A = deepcopy(X)\n",
    "    A[:, :2] = std_scaler.transform(X[:, :2])\n",
    "    A[:, 2:] = minmax_scaler.transform(X[:, 2:])\n",
    "    return A\n",
    "\n",
    "preprocessor_transformer = FunctionTransformer(preprocessor)\n",
    "\n",
    "p1 = Pipeline([('Scaler', preprocessor_transformer),\n",
    "              ('Logistic Regression', LogisticRegression())])\n",
    "\n",
    "y_train=y_train.astype('int')"
   ]
  },
  {
   "cell_type": "code",
   "execution_count": 60,
   "id": "33ed4a16",
   "metadata": {},
   "outputs": [],
   "source": [
    "# training model\n",
    "p1.fit(x_train, y_train)\n",
    "train_pred_prob = p1.predict_proba(x_train)[:, 1]\n",
    "test_pred_prob = p1.predict_proba(x_test)[:, 1]\n",
    "train_pred = p1.predict(x_train)\n",
    "test_pred = p1.predict(x_test)"
   ]
  },
  {
   "cell_type": "code",
   "execution_count": 61,
   "id": "0ab99d15",
   "metadata": {},
   "outputs": [],
   "source": [
    "def goeGINI(y_true, y_pred_proba):\n",
    "    y_pred_proba = pd.Series(y_pred_proba) \n",
    "    y_pred = np.array(y_pred_proba.map(lambda x: 1 if x > 0.5 else 0))\n",
    "    final_prob_target_and_class = np.column_stack([y_pred_proba.T, y_pred.T, y_true.T]).astype(float)\n",
    "    final_prob_target_and_class = final_prob_target_and_class[np.argsort(final_prob_target_and_class[:, 0])][::-1]\n",
    "    match = np.zeros((final_prob_target_and_class.shape[0],))\n",
    "\n",
    "    for i in range(final_prob_target_and_class.shape[0]):\n",
    "        match[i] = final_prob_target_and_class[i, 2]\n",
    "    print(match)\n",
    "    n = match.sum().astype(int)\n",
    "    m = (match.shape[0]-n).astype(int)\n",
    "\n",
    "    coord_y = np.linspace(0, 1, num = n+1)\n",
    "    coord_x = np.linspace(0, 1, num = m+1)\n",
    "    coords = np.zeros((n+m+1, 2))\n",
    "\n",
    "    h_i = w_i = 0\n",
    "    coords[0] = coord_x[0], coord_y[0]\n",
    "    for i in range(1, n+m):\n",
    "        if match[i-1] == 1:\n",
    "            h_i += 1\n",
    "        else:\n",
    "            w_i += 1\n",
    "        coords[i] = coord_x[w_i], coord_y[h_i]\n",
    "\n",
    "    coords[-1] = 1, 1\n",
    "    plt.scatter(coords[:, 0], coords[:, 1], marker = \",\")\n",
    "    plt.show()\n",
    "    \n",
    "    # fit polynomial w/ high degree\n",
    "    deg = 100\n",
    "    z = np.polyfit(coords[:, 0], coords[:, 1], deg)\n",
    "    x = np.array(coords[:, 0])\n",
    "    y = np.zeros((len(coords[:, 0],))) \n",
    "\n",
    "    for i in range(len(x)):\n",
    "        for j in range(deg+1):\n",
    "            y[i] += (z[j] * (x[i] ** (deg - j)))  \n",
    "    y = y.clip(min=0, max=1)\n",
    "    plt.plot(x, y)\n",
    "    plt.plot(coords[:, 0], coords[:, 1])\n",
    "    plt.show()\n",
    "    aucroc = 0\n",
    "    for i in range(deg+1):\n",
    "        aucroc += z[i]/(deg-i+1)\n",
    "    gini_doge = 2 * aucroc - 1\n",
    "    gini_sklearn = 2 * roc_auc_score(final_prob_target_and_class[:, 2], final_prob_target_and_class[:, 0]) - 1 \n",
    "    print(f\"gini_doge = {gini_doge}\\ngini_sklearn = {gini_sklearn}\\nabs = {abs(gini_sklearn-gini_doge)}\")\n",
    "    "
   ]
  },
  {
   "cell_type": "code",
   "execution_count": 62,
   "id": "2271cff1",
   "metadata": {},
   "outputs": [
    {
     "name": "stdout",
     "output_type": "stream",
     "text": [
      "[1. 1. 1. 1. 1. 1. 1. 1. 1. 1. 1. 1. 1. 1. 1. 1. 1. 1. 1. 1. 1. 1. 1. 1.\n",
      " 1. 1. 1. 1. 1. 1. 0. 1. 1. 1. 1. 1. 1. 0. 1. 1. 1. 1. 1. 1. 1. 1. 1. 0.\n",
      " 1. 1. 1. 0. 1. 1. 0. 1. 1. 1. 1. 0. 1. 1. 1. 0. 1. 1. 1. 1. 0. 0. 0. 0.\n",
      " 0. 0. 0. 1. 0. 1. 0. 0. 0. 0. 0. 0. 1. 1. 1. 1. 0. 1. 0. 0. 0. 1. 0. 0.\n",
      " 0. 1. 0. 1. 0. 0. 0. 0. 0. 1. 0. 0. 1. 0. 0. 0. 0. 0. 0. 0. 0. 0. 0. 0.\n",
      " 0. 0. 1. 0. 0. 1. 0. 0. 0. 0. 1. 1. 1. 1. 1. 0. 0. 0. 1. 0. 0. 0. 0. 0.\n",
      " 0. 0. 1. 0. 0. 0. 0. 0. 0. 0. 0. 0. 1. 1. 0. 0. 0. 1. 0. 0. 0. 0. 0. 1.\n",
      " 0. 0. 1. 0. 0. 1. 0. 0. 1. 1. 0. 0. 0. 1. 0. 1. 0. 0. 0. 0. 0. 0. 0. 0.\n",
      " 0. 0. 0. 0. 0. 0. 0. 0. 0. 0. 0. 1. 0. 0. 0. 0. 0. 0. 0. 0. 0. 0.]\n"
     ]
    },
    {
     "data": {
      "image/png": "[encoded data removed]",
      "text/plain": [
       "<Figure size 432x288 with 1 Axes>"
      ]
     },
     "metadata": {
      "needs_background": "light"
     },
     "output_type": "display_data"
    },
    {
     "data": {
      "image/png": "[encoded data removed]",
      "text/plain": [
       "<Figure size 432x288 with 1 Axes>"
      ]
     },
     "metadata": {
      "needs_background": "light"
     },
     "output_type": "display_data"
    },
    {
     "name": "stdout",
     "output_type": "stream",
     "text": [
      "gini_doge = 0.671072213310874\n",
      "gini_sklearn = 0.6729760952634853\n",
      "abs = 0.0019038819526113748\n"
     ]
    }
   ],
   "source": [
    "goeGINI(y_test, test_pred_prob)"
   ]
  },
  {
   "cell_type": "code",
   "execution_count": 98,
   "id": "f62c1895",
   "metadata": {},
   "outputs": [],
   "source": [
    "df2 = pd.read_csv('bank.csv')"
   ]
  },
  {
   "cell_type": "code",
   "execution_count": 99,
   "id": "200bf843",
   "metadata": {},
   "outputs": [
    {
     "data": {
      "text/html": [
       "<div>\n",
       "<style scoped>\n",
       "    .dataframe tbody tr th:only-of-type {\n",
       "        vertical-align: middle;\n",
       "    }\n",
       "\n",
       "    .dataframe tbody tr th {\n",
       "        vertical-align: top;\n",
       "    }\n",
       "\n",
       "    .dataframe thead th {\n",
       "        text-align: right;\n",
       "    }\n",
       "</style>\n",
       "<table border=\"1\" class=\"dataframe\">\n",
       "  <thead>\n",
       "    <tr style=\"text-align: right;\">\n",
       "      <th></th>\n",
       "      <th>Unnamed: 0</th>\n",
       "      <th>feature_0</th>\n",
       "      <th>feature_1</th>\n",
       "      <th>feature_2</th>\n",
       "      <th>feature_3</th>\n",
       "      <th>feature_4</th>\n",
       "      <th>feature_5</th>\n",
       "      <th>feature_6</th>\n",
       "      <th>feature_7</th>\n",
       "      <th>feature_8</th>\n",
       "      <th>feature_9</th>\n",
       "      <th>feature_10</th>\n",
       "      <th>feature_11</th>\n",
       "      <th>target</th>\n",
       "    </tr>\n",
       "  </thead>\n",
       "  <tbody>\n",
       "    <tr>\n",
       "      <th>0</th>\n",
       "      <td>0</td>\n",
       "      <td>2736.0</td>\n",
       "      <td>1115.0</td>\n",
       "      <td>228.0</td>\n",
       "      <td>0.0</td>\n",
       "      <td>0.0</td>\n",
       "      <td>24.0</td>\n",
       "      <td>2.0</td>\n",
       "      <td>0.0</td>\n",
       "      <td>0.0</td>\n",
       "      <td>1.0</td>\n",
       "      <td>1.0</td>\n",
       "      <td>5068.0</td>\n",
       "      <td>1.0</td>\n",
       "    </tr>\n",
       "    <tr>\n",
       "      <th>1</th>\n",
       "      <td>1</td>\n",
       "      <td>3258.0</td>\n",
       "      <td>1177.0</td>\n",
       "      <td>217.0</td>\n",
       "      <td>2.0</td>\n",
       "      <td>0.0</td>\n",
       "      <td>23.0</td>\n",
       "      <td>1.0</td>\n",
       "      <td>743.0</td>\n",
       "      <td>0.0</td>\n",
       "      <td>0.0</td>\n",
       "      <td>1.0</td>\n",
       "      <td>5639.0</td>\n",
       "      <td>0.0</td>\n",
       "    </tr>\n",
       "    <tr>\n",
       "      <th>2</th>\n",
       "      <td>2</td>\n",
       "      <td>2104.0</td>\n",
       "      <td>2040.0</td>\n",
       "      <td>111.0</td>\n",
       "      <td>0.0</td>\n",
       "      <td>0.0</td>\n",
       "      <td>24.0</td>\n",
       "      <td>8.0</td>\n",
       "      <td>5793.0</td>\n",
       "      <td>2.0</td>\n",
       "      <td>1.0</td>\n",
       "      <td>0.0</td>\n",
       "      <td>5707.0</td>\n",
       "      <td>1.0</td>\n",
       "    </tr>\n",
       "    <tr>\n",
       "      <th>3</th>\n",
       "      <td>3</td>\n",
       "      <td>5435.0</td>\n",
       "      <td>289.0</td>\n",
       "      <td>308.0</td>\n",
       "      <td>0.0</td>\n",
       "      <td>0.0</td>\n",
       "      <td>21.0</td>\n",
       "      <td>1.0</td>\n",
       "      <td>0.0</td>\n",
       "      <td>1.0</td>\n",
       "      <td>0.0</td>\n",
       "      <td>0.0</td>\n",
       "      <td>4704.0</td>\n",
       "      <td>0.0</td>\n",
       "    </tr>\n",
       "    <tr>\n",
       "      <th>4</th>\n",
       "      <td>4</td>\n",
       "      <td>6899.0</td>\n",
       "      <td>1822.0</td>\n",
       "      <td>459.0</td>\n",
       "      <td>2.0</td>\n",
       "      <td>0.0</td>\n",
       "      <td>25.0</td>\n",
       "      <td>2.0</td>\n",
       "      <td>3696.0</td>\n",
       "      <td>0.0</td>\n",
       "      <td>1.0</td>\n",
       "      <td>1.0</td>\n",
       "      <td>3925.0</td>\n",
       "      <td>0.0</td>\n",
       "    </tr>\n",
       "  </tbody>\n",
       "</table>\n",
       "</div>"
      ],
      "text/plain": [
       "   Unnamed: 0  feature_0  feature_1  feature_2  feature_3  feature_4  \\\n",
       "0           0     2736.0     1115.0      228.0        0.0        0.0   \n",
       "1           1     3258.0     1177.0      217.0        2.0        0.0   \n",
       "2           2     2104.0     2040.0      111.0        0.0        0.0   \n",
       "3           3     5435.0      289.0      308.0        0.0        0.0   \n",
       "4           4     6899.0     1822.0      459.0        2.0        0.0   \n",
       "\n",
       "   feature_5  feature_6  feature_7  feature_8  feature_9  feature_10  \\\n",
       "0       24.0        2.0        0.0        0.0        1.0         1.0   \n",
       "1       23.0        1.0      743.0        0.0        0.0         1.0   \n",
       "2       24.0        8.0     5793.0        2.0        1.0         0.0   \n",
       "3       21.0        1.0        0.0        1.0        0.0         0.0   \n",
       "4       25.0        2.0     3696.0        0.0        1.0         1.0   \n",
       "\n",
       "   feature_11  target  \n",
       "0      5068.0     1.0  \n",
       "1      5639.0     0.0  \n",
       "2      5707.0     1.0  \n",
       "3      4704.0     0.0  \n",
       "4      3925.0     0.0  "
      ]
     },
     "execution_count": 99,
     "metadata": {},
     "output_type": "execute_result"
    }
   ],
   "source": [
    "df2.head()"
   ]
  },
  {
   "cell_type": "code",
   "execution_count": 43,
   "id": "8056734c",
   "metadata": {},
   "outputs": [],
   "source": [
    "df2.drop(columns=['Unnamed: 0'], inplace=True)"
   ]
  },
  {
   "cell_type": "code",
   "execution_count": 45,
   "id": "43e3926d",
   "metadata": {},
   "outputs": [],
   "source": [
    "X_train, X_test, y_train, y_test = train_test_split(df2.drop(columns=['target']), df2.target, test_size=0.2)"
   ]
  },
  {
   "cell_type": "code",
   "execution_count": 48,
   "id": "826e80b0",
   "metadata": {},
   "outputs": [
    {
     "data": {
      "text/plain": [
       "LGBMClassifier()"
      ]
     },
     "execution_count": 48,
     "metadata": {},
     "output_type": "execute_result"
    }
   ],
   "source": [
    "clf = lgb.LGBMClassifier()\n",
    "clf.fit(X_train, y_train)"
   ]
  },
  {
   "cell_type": "code",
   "execution_count": 54,
   "id": "8ba680fb",
   "metadata": {},
   "outputs": [],
   "source": [
    "y_proba = clf.predict_proba(X_test)[:, 1]"
   ]
  },
  {
   "cell_type": "code",
   "execution_count": 56,
   "id": "594d6453",
   "metadata": {},
   "outputs": [
    {
     "data": {
      "image/png": "[encoded data removed]",
      "text/plain": [
       "<Figure size 432x288 with 1 Axes>"
      ]
     },
     "metadata": {
      "needs_background": "light"
     },
     "output_type": "display_data"
    },
    {
     "data": {
      "image/png": "[encoded data removed]",
      "text/plain": [
       "<Figure size 432x288 with 1 Axes>"
      ]
     },
     "metadata": {
      "needs_background": "light"
     },
     "output_type": "display_data"
    },
    {
     "name": "stdout",
     "output_type": "stream",
     "text": [
      "gini_doge = 0.7245444964111509\n",
      "gini_sklearn = 0.7246861653641314\n",
      "abs = 0.00014166895298051152\n"
     ]
    }
   ],
   "source": [
    "goeGINI(y_test, y_proba)"
   ]
  },
  {
   "cell_type": "code",
   "execution_count": 9,
   "id": "818e9140",
   "metadata": {},
   "outputs": [],
   "source": [
    "df3 = pd.read_csv('application_train.csv', sep=\",\")"
   ]
  },
  {
   "cell_type": "code",
   "execution_count": 100,
   "id": "f436fe4d",
   "metadata": {},
   "outputs": [
    {
     "data": {
      "text/html": [
       "<div>\n",
       "<style scoped>\n",
       "    .dataframe tbody tr th:only-of-type {\n",
       "        vertical-align: middle;\n",
       "    }\n",
       "\n",
       "    .dataframe tbody tr th {\n",
       "        vertical-align: top;\n",
       "    }\n",
       "\n",
       "    .dataframe thead th {\n",
       "        text-align: right;\n",
       "    }\n",
       "</style>\n",
       "<table border=\"1\" class=\"dataframe\">\n",
       "  <thead>\n",
       "    <tr style=\"text-align: right;\">\n",
       "      <th></th>\n",
       "      <th>SK_ID_CURR</th>\n",
       "      <th>TARGET</th>\n",
       "      <th>NAME_CONTRACT_TYPE</th>\n",
       "      <th>CODE_GENDER</th>\n",
       "      <th>FLAG_OWN_CAR</th>\n",
       "      <th>FLAG_OWN_REALTY</th>\n",
       "      <th>CNT_CHILDREN</th>\n",
       "      <th>AMT_INCOME_TOTAL</th>\n",
       "      <th>AMT_CREDIT</th>\n",
       "      <th>AMT_ANNUITY</th>\n",
       "      <th>...</th>\n",
       "      <th>FLAG_DOCUMENT_18</th>\n",
       "      <th>FLAG_DOCUMENT_19</th>\n",
       "      <th>FLAG_DOCUMENT_20</th>\n",
       "      <th>FLAG_DOCUMENT_21</th>\n",
       "      <th>AMT_REQ_CREDIT_BUREAU_HOUR</th>\n",
       "      <th>AMT_REQ_CREDIT_BUREAU_DAY</th>\n",
       "      <th>AMT_REQ_CREDIT_BUREAU_WEEK</th>\n",
       "      <th>AMT_REQ_CREDIT_BUREAU_MON</th>\n",
       "      <th>AMT_REQ_CREDIT_BUREAU_QRT</th>\n",
       "      <th>AMT_REQ_CREDIT_BUREAU_YEAR</th>\n",
       "    </tr>\n",
       "  </thead>\n",
       "  <tbody>\n",
       "    <tr>\n",
       "      <th>0</th>\n",
       "      <td>100002</td>\n",
       "      <td>1</td>\n",
       "      <td>0.083459</td>\n",
       "      <td>0.101419</td>\n",
       "      <td>0.085002</td>\n",
       "      <td>0.079616</td>\n",
       "      <td>0</td>\n",
       "      <td>202500.0</td>\n",
       "      <td>406597.5</td>\n",
       "      <td>24700.5</td>\n",
       "      <td>...</td>\n",
       "      <td>0</td>\n",
       "      <td>0</td>\n",
       "      <td>0</td>\n",
       "      <td>0</td>\n",
       "      <td>0.0</td>\n",
       "      <td>0.0</td>\n",
       "      <td>0.0</td>\n",
       "      <td>0.0</td>\n",
       "      <td>0.0</td>\n",
       "      <td>1.0</td>\n",
       "    </tr>\n",
       "    <tr>\n",
       "      <th>1</th>\n",
       "      <td>100003</td>\n",
       "      <td>0</td>\n",
       "      <td>0.083459</td>\n",
       "      <td>0.069993</td>\n",
       "      <td>0.085002</td>\n",
       "      <td>0.083249</td>\n",
       "      <td>0</td>\n",
       "      <td>270000.0</td>\n",
       "      <td>1293502.5</td>\n",
       "      <td>35698.5</td>\n",
       "      <td>...</td>\n",
       "      <td>0</td>\n",
       "      <td>0</td>\n",
       "      <td>0</td>\n",
       "      <td>0</td>\n",
       "      <td>0.0</td>\n",
       "      <td>0.0</td>\n",
       "      <td>0.0</td>\n",
       "      <td>0.0</td>\n",
       "      <td>0.0</td>\n",
       "      <td>0.0</td>\n",
       "    </tr>\n",
       "    <tr>\n",
       "      <th>2</th>\n",
       "      <td>100004</td>\n",
       "      <td>0</td>\n",
       "      <td>0.054783</td>\n",
       "      <td>0.101419</td>\n",
       "      <td>0.072437</td>\n",
       "      <td>0.079616</td>\n",
       "      <td>0</td>\n",
       "      <td>67500.0</td>\n",
       "      <td>135000.0</td>\n",
       "      <td>6750.0</td>\n",
       "      <td>...</td>\n",
       "      <td>0</td>\n",
       "      <td>0</td>\n",
       "      <td>0</td>\n",
       "      <td>0</td>\n",
       "      <td>0.0</td>\n",
       "      <td>0.0</td>\n",
       "      <td>0.0</td>\n",
       "      <td>0.0</td>\n",
       "      <td>0.0</td>\n",
       "      <td>0.0</td>\n",
       "    </tr>\n",
       "    <tr>\n",
       "      <th>3</th>\n",
       "      <td>100006</td>\n",
       "      <td>0</td>\n",
       "      <td>0.083459</td>\n",
       "      <td>0.069993</td>\n",
       "      <td>0.085002</td>\n",
       "      <td>0.079616</td>\n",
       "      <td>0</td>\n",
       "      <td>135000.0</td>\n",
       "      <td>312682.5</td>\n",
       "      <td>29686.5</td>\n",
       "      <td>...</td>\n",
       "      <td>0</td>\n",
       "      <td>0</td>\n",
       "      <td>0</td>\n",
       "      <td>0</td>\n",
       "      <td>NaN</td>\n",
       "      <td>NaN</td>\n",
       "      <td>NaN</td>\n",
       "      <td>NaN</td>\n",
       "      <td>NaN</td>\n",
       "      <td>NaN</td>\n",
       "    </tr>\n",
       "    <tr>\n",
       "      <th>4</th>\n",
       "      <td>100007</td>\n",
       "      <td>0</td>\n",
       "      <td>0.083459</td>\n",
       "      <td>0.101419</td>\n",
       "      <td>0.085002</td>\n",
       "      <td>0.079616</td>\n",
       "      <td>0</td>\n",
       "      <td>121500.0</td>\n",
       "      <td>513000.0</td>\n",
       "      <td>21865.5</td>\n",
       "      <td>...</td>\n",
       "      <td>0</td>\n",
       "      <td>0</td>\n",
       "      <td>0</td>\n",
       "      <td>0</td>\n",
       "      <td>0.0</td>\n",
       "      <td>0.0</td>\n",
       "      <td>0.0</td>\n",
       "      <td>0.0</td>\n",
       "      <td>0.0</td>\n",
       "      <td>0.0</td>\n",
       "    </tr>\n",
       "  </tbody>\n",
       "</table>\n",
       "<p>5 rows × 122 columns</p>\n",
       "</div>"
      ],
      "text/plain": [
       "   SK_ID_CURR  TARGET  NAME_CONTRACT_TYPE  CODE_GENDER  FLAG_OWN_CAR  \\\n",
       "0      100002       1            0.083459     0.101419      0.085002   \n",
       "1      100003       0            0.083459     0.069993      0.085002   \n",
       "2      100004       0            0.054783     0.101419      0.072437   \n",
       "3      100006       0            0.083459     0.069993      0.085002   \n",
       "4      100007       0            0.083459     0.101419      0.085002   \n",
       "\n",
       "   FLAG_OWN_REALTY  CNT_CHILDREN  AMT_INCOME_TOTAL  AMT_CREDIT  AMT_ANNUITY  \\\n",
       "0         0.079616             0          202500.0    406597.5      24700.5   \n",
       "1         0.083249             0          270000.0   1293502.5      35698.5   \n",
       "2         0.079616             0           67500.0    135000.0       6750.0   \n",
       "3         0.079616             0          135000.0    312682.5      29686.5   \n",
       "4         0.079616             0          121500.0    513000.0      21865.5   \n",
       "\n",
       "   ...  FLAG_DOCUMENT_18  FLAG_DOCUMENT_19  FLAG_DOCUMENT_20  \\\n",
       "0  ...                 0                 0                 0   \n",
       "1  ...                 0                 0                 0   \n",
       "2  ...                 0                 0                 0   \n",
       "3  ...                 0                 0                 0   \n",
       "4  ...                 0                 0                 0   \n",
       "\n",
       "   FLAG_DOCUMENT_21  AMT_REQ_CREDIT_BUREAU_HOUR  AMT_REQ_CREDIT_BUREAU_DAY  \\\n",
       "0                 0                         0.0                        0.0   \n",
       "1                 0                         0.0                        0.0   \n",
       "2                 0                         0.0                        0.0   \n",
       "3                 0                         NaN                        NaN   \n",
       "4                 0                         0.0                        0.0   \n",
       "\n",
       "   AMT_REQ_CREDIT_BUREAU_WEEK  AMT_REQ_CREDIT_BUREAU_MON  \\\n",
       "0                         0.0                        0.0   \n",
       "1                         0.0                        0.0   \n",
       "2                         0.0                        0.0   \n",
       "3                         NaN                        NaN   \n",
       "4                         0.0                        0.0   \n",
       "\n",
       "   AMT_REQ_CREDIT_BUREAU_QRT  AMT_REQ_CREDIT_BUREAU_YEAR  \n",
       "0                        0.0                         1.0  \n",
       "1                        0.0                         0.0  \n",
       "2                        0.0                         0.0  \n",
       "3                        NaN                         NaN  \n",
       "4                        0.0                         0.0  \n",
       "\n",
       "[5 rows x 122 columns]"
      ]
     },
     "execution_count": 100,
     "metadata": {},
     "output_type": "execute_result"
    }
   ],
   "source": [
    "df3.head()"
   ]
  },
  {
   "cell_type": "code",
   "execution_count": 16,
   "id": "82a87cb3",
   "metadata": {},
   "outputs": [],
   "source": [
    "for col in df3.select_dtypes(include='object'):\n",
    "    df3[col] = df3[col].astype('category')"
   ]
  },
  {
   "cell_type": "code",
   "execution_count": 33,
   "id": "1efbc0e8",
   "metadata": {},
   "outputs": [],
   "source": [
    "categorical_cols = df3.select_dtypes(include='category').columns\n",
    "encoder = TargetEncoder()\n",
    "encoder.fit(df3[categorical_cols], df3['TARGET'])\n",
    "encoded_df = encoder.transform(df3[categorical_cols])\n",
    "df3[categorical_cols] = encoded_df"
   ]
  },
  {
   "cell_type": "code",
   "execution_count": 36,
   "id": "6ec71657",
   "metadata": {},
   "outputs": [],
   "source": [
    "for col in df3.select_dtypes(include='category'):\n",
    "    df3[col] = df3[col].astype('float32')"
   ]
  },
  {
   "cell_type": "code",
   "execution_count": 39,
   "id": "1da20a7c",
   "metadata": {},
   "outputs": [],
   "source": [
    "X_train, X_test, y_train, y_test = train_test_split(df3.drop(columns=['TARGET']), df3.TARGET, test_size=0.2)"
   ]
  },
  {
   "cell_type": "code",
   "execution_count": 40,
   "id": "8441cc27",
   "metadata": {},
   "outputs": [
    {
     "data": {
      "text/plain": [
       "XGBClassifier(base_score=None, booster=None, callbacks=None,\n",
       "              colsample_bylevel=None, colsample_bynode=None,\n",
       "              colsample_bytree=None, early_stopping_rounds=None,\n",
       "              enable_categorical=False, eval_metric=None, feature_types=None,\n",
       "              gamma=None, gpu_id=None, grow_policy=None, importance_type=None,\n",
       "              interaction_constraints=None, learning_rate=None, max_bin=None,\n",
       "              max_cat_threshold=None, max_cat_to_onehot=None,\n",
       "              max_delta_step=None, max_depth=None, max_leaves=None,\n",
       "              min_child_weight=None, missing=nan, monotone_constraints=None,\n",
       "              n_estimators=100, n_jobs=None, num_parallel_tree=None,\n",
       "              predictor=None, random_state=None, ...)"
      ]
     },
     "execution_count": 40,
     "metadata": {},
     "output_type": "execute_result"
    }
   ],
   "source": [
    "clf = xgb.XGBClassifier()\n",
    "clf.fit(X_train, y_train)"
   ]
  },
  {
   "cell_type": "code",
   "execution_count": 42,
   "id": "60ca3573",
   "metadata": {},
   "outputs": [],
   "source": [
    "y_pred_proba = clf.predict_proba(X_test)[:,1]"
   ]
  },
  {
   "cell_type": "code",
   "execution_count": 46,
   "id": "2f4a37f5",
   "metadata": {},
   "outputs": [
    {
     "data": {
      "image/png": "[encoded data removed]",
      "text/plain": [
       "<Figure size 432x288 with 1 Axes>"
      ]
     },
     "metadata": {
      "needs_background": "light"
     },
     "output_type": "display_data"
    },
    {
     "data": {
      "image/png": "[encoded data removed]",
      "text/plain": [
       "<Figure size 432x288 with 1 Axes>"
      ]
     },
     "metadata": {
      "needs_background": "light"
     },
     "output_type": "display_data"
    },
    {
     "name": "stdout",
     "output_type": "stream",
     "text": [
      "gini_doge = 0.4962548707720149\n",
      "gini_sklearn = 0.4962558643765287\n",
      "abs = 9.936045137770577e-07\n"
     ]
    }
   ],
   "source": [
    "goeGINI(y_test, y_pred_proba)"
   ]
  },
  {
   "cell_type": "code",
   "execution_count": 84,
   "id": "3ba16642",
   "metadata": {},
   "outputs": [],
   "source": [
    "df4 = pd.read_csv('delay.csv', sep=\",\")"
   ]
  },
  {
   "cell_type": "code",
   "execution_count": 87,
   "id": "be207571",
   "metadata": {},
   "outputs": [
    {
     "data": {
      "text/html": [
       "<div>\n",
       "<style scoped>\n",
       "    .dataframe tbody tr th:only-of-type {\n",
       "        vertical-align: middle;\n",
       "    }\n",
       "\n",
       "    .dataframe tbody tr th {\n",
       "        vertical-align: top;\n",
       "    }\n",
       "\n",
       "    .dataframe thead th {\n",
       "        text-align: right;\n",
       "    }\n",
       "</style>\n",
       "<table border=\"1\" class=\"dataframe\">\n",
       "  <thead>\n",
       "    <tr style=\"text-align: right;\">\n",
       "      <th></th>\n",
       "      <th>Flight</th>\n",
       "      <th>Time</th>\n",
       "      <th>Length</th>\n",
       "      <th>Airline</th>\n",
       "      <th>AirportFrom</th>\n",
       "      <th>AirportTo</th>\n",
       "      <th>DayOfWeek</th>\n",
       "      <th>Class</th>\n",
       "    </tr>\n",
       "  </thead>\n",
       "  <tbody>\n",
       "    <tr>\n",
       "      <th>0</th>\n",
       "      <td>2313.0</td>\n",
       "      <td>1296.0</td>\n",
       "      <td>141.0</td>\n",
       "      <td>DL</td>\n",
       "      <td>ATL</td>\n",
       "      <td>HOU</td>\n",
       "      <td>1</td>\n",
       "      <td>0</td>\n",
       "    </tr>\n",
       "    <tr>\n",
       "      <th>1</th>\n",
       "      <td>6948.0</td>\n",
       "      <td>360.0</td>\n",
       "      <td>146.0</td>\n",
       "      <td>OO</td>\n",
       "      <td>COS</td>\n",
       "      <td>ORD</td>\n",
       "      <td>4</td>\n",
       "      <td>0</td>\n",
       "    </tr>\n",
       "    <tr>\n",
       "      <th>2</th>\n",
       "      <td>1247.0</td>\n",
       "      <td>1170.0</td>\n",
       "      <td>143.0</td>\n",
       "      <td>B6</td>\n",
       "      <td>BOS</td>\n",
       "      <td>CLT</td>\n",
       "      <td>3</td>\n",
       "      <td>0</td>\n",
       "    </tr>\n",
       "    <tr>\n",
       "      <th>3</th>\n",
       "      <td>31.0</td>\n",
       "      <td>1410.0</td>\n",
       "      <td>344.0</td>\n",
       "      <td>US</td>\n",
       "      <td>OGG</td>\n",
       "      <td>PHX</td>\n",
       "      <td>6</td>\n",
       "      <td>0</td>\n",
       "    </tr>\n",
       "    <tr>\n",
       "      <th>4</th>\n",
       "      <td>563.0</td>\n",
       "      <td>692.0</td>\n",
       "      <td>98.0</td>\n",
       "      <td>FL</td>\n",
       "      <td>BMI</td>\n",
       "      <td>ATL</td>\n",
       "      <td>4</td>\n",
       "      <td>0</td>\n",
       "    </tr>\n",
       "    <tr>\n",
       "      <th>...</th>\n",
       "      <td>...</td>\n",
       "      <td>...</td>\n",
       "      <td>...</td>\n",
       "      <td>...</td>\n",
       "      <td>...</td>\n",
       "      <td>...</td>\n",
       "      <td>...</td>\n",
       "      <td>...</td>\n",
       "    </tr>\n",
       "    <tr>\n",
       "      <th>539377</th>\n",
       "      <td>6973.0</td>\n",
       "      <td>530.0</td>\n",
       "      <td>72.0</td>\n",
       "      <td>OO</td>\n",
       "      <td>GEG</td>\n",
       "      <td>SEA</td>\n",
       "      <td>5</td>\n",
       "      <td>1</td>\n",
       "    </tr>\n",
       "    <tr>\n",
       "      <th>539378</th>\n",
       "      <td>1264.0</td>\n",
       "      <td>560.0</td>\n",
       "      <td>115.0</td>\n",
       "      <td>WN</td>\n",
       "      <td>LAS</td>\n",
       "      <td>DEN</td>\n",
       "      <td>4</td>\n",
       "      <td>1</td>\n",
       "    </tr>\n",
       "    <tr>\n",
       "      <th>539379</th>\n",
       "      <td>5209.0</td>\n",
       "      <td>827.0</td>\n",
       "      <td>74.0</td>\n",
       "      <td>EV</td>\n",
       "      <td>CAE</td>\n",
       "      <td>ATL</td>\n",
       "      <td>2</td>\n",
       "      <td>1</td>\n",
       "    </tr>\n",
       "    <tr>\n",
       "      <th>539380</th>\n",
       "      <td>607.0</td>\n",
       "      <td>715.0</td>\n",
       "      <td>65.0</td>\n",
       "      <td>WN</td>\n",
       "      <td>BWI</td>\n",
       "      <td>BUF</td>\n",
       "      <td>4</td>\n",
       "      <td>1</td>\n",
       "    </tr>\n",
       "    <tr>\n",
       "      <th>539381</th>\n",
       "      <td>6377.0</td>\n",
       "      <td>770.0</td>\n",
       "      <td>55.0</td>\n",
       "      <td>OO</td>\n",
       "      <td>CPR</td>\n",
       "      <td>DEN</td>\n",
       "      <td>2</td>\n",
       "      <td>1</td>\n",
       "    </tr>\n",
       "  </tbody>\n",
       "</table>\n",
       "<p>539382 rows × 8 columns</p>\n",
       "</div>"
      ],
      "text/plain": [
       "        Flight    Time  Length Airline AirportFrom AirportTo  DayOfWeek  Class\n",
       "0       2313.0  1296.0   141.0      DL         ATL       HOU          1      0\n",
       "1       6948.0   360.0   146.0      OO         COS       ORD          4      0\n",
       "2       1247.0  1170.0   143.0      B6         BOS       CLT          3      0\n",
       "3         31.0  1410.0   344.0      US         OGG       PHX          6      0\n",
       "4        563.0   692.0    98.0      FL         BMI       ATL          4      0\n",
       "...        ...     ...     ...     ...         ...       ...        ...    ...\n",
       "539377  6973.0   530.0    72.0      OO         GEG       SEA          5      1\n",
       "539378  1264.0   560.0   115.0      WN         LAS       DEN          4      1\n",
       "539379  5209.0   827.0    74.0      EV         CAE       ATL          2      1\n",
       "539380   607.0   715.0    65.0      WN         BWI       BUF          4      1\n",
       "539381  6377.0   770.0    55.0      OO         CPR       DEN          2      1\n",
       "\n",
       "[539382 rows x 8 columns]"
      ]
     },
     "execution_count": 87,
     "metadata": {},
     "output_type": "execute_result"
    }
   ],
   "source": [
    "df4"
   ]
  },
  {
   "cell_type": "code",
   "execution_count": 88,
   "id": "dea9b454",
   "metadata": {},
   "outputs": [],
   "source": [
    "for col in df4.select_dtypes(include='object'):\n",
    "    df4[col] = df4[col].astype('category')"
   ]
  },
  {
   "cell_type": "code",
   "execution_count": 89,
   "id": "182da853",
   "metadata": {},
   "outputs": [],
   "source": [
    "categorical_cols = df4.select_dtypes(include='category').columns\n",
    "encoder = TargetEncoder()\n",
    "encoder.fit(df4[categorical_cols], df4['Class'])\n",
    "encoded_df = encoder.transform(df4[categorical_cols])\n",
    "df4[categorical_cols] = encoded_df"
   ]
  },
  {
   "cell_type": "code",
   "execution_count": 90,
   "id": "33298f52",
   "metadata": {},
   "outputs": [],
   "source": [
    "for col in df4.select_dtypes(include='category'):\n",
    "    df4[col] = df4[col].astype('float32')"
   ]
  },
  {
   "cell_type": "code",
   "execution_count": 91,
   "id": "f445bea5",
   "metadata": {},
   "outputs": [],
   "source": [
    "X_train, X_test, y_train, y_test = train_test_split(df4.drop(columns=['Class']), df4.Class, test_size=0.2)"
   ]
  },
  {
   "cell_type": "code",
   "execution_count": 101,
   "id": "88e22b67",
   "metadata": {},
   "outputs": [
    {
     "data": {
      "text/html": [
       "<div>\n",
       "<style scoped>\n",
       "    .dataframe tbody tr th:only-of-type {\n",
       "        vertical-align: middle;\n",
       "    }\n",
       "\n",
       "    .dataframe tbody tr th {\n",
       "        vertical-align: top;\n",
       "    }\n",
       "\n",
       "    .dataframe thead th {\n",
       "        text-align: right;\n",
       "    }\n",
       "</style>\n",
       "<table border=\"1\" class=\"dataframe\">\n",
       "  <thead>\n",
       "    <tr style=\"text-align: right;\">\n",
       "      <th></th>\n",
       "      <th>Flight</th>\n",
       "      <th>Time</th>\n",
       "      <th>Length</th>\n",
       "      <th>Airline</th>\n",
       "      <th>AirportFrom</th>\n",
       "      <th>AirportTo</th>\n",
       "      <th>DayOfWeek</th>\n",
       "    </tr>\n",
       "  </thead>\n",
       "  <tbody>\n",
       "    <tr>\n",
       "      <th>269197</th>\n",
       "      <td>3117.0</td>\n",
       "      <td>1170.0</td>\n",
       "      <td>77.0</td>\n",
       "      <td>0.378944</td>\n",
       "      <td>0.490024</td>\n",
       "      <td>0.315648</td>\n",
       "      <td>3</td>\n",
       "    </tr>\n",
       "    <tr>\n",
       "      <th>487507</th>\n",
       "      <td>4282.0</td>\n",
       "      <td>680.0</td>\n",
       "      <td>83.0</td>\n",
       "      <td>0.397660</td>\n",
       "      <td>0.286853</td>\n",
       "      <td>0.344341</td>\n",
       "      <td>5</td>\n",
       "    </tr>\n",
       "    <tr>\n",
       "      <th>524606</th>\n",
       "      <td>645.0</td>\n",
       "      <td>555.0</td>\n",
       "      <td>165.0</td>\n",
       "      <td>0.388470</td>\n",
       "      <td>0.414776</td>\n",
       "      <td>0.436310</td>\n",
       "      <td>4</td>\n",
       "    </tr>\n",
       "    <tr>\n",
       "      <th>502146</th>\n",
       "      <td>3975.0</td>\n",
       "      <td>660.0</td>\n",
       "      <td>105.0</td>\n",
       "      <td>0.348104</td>\n",
       "      <td>0.479655</td>\n",
       "      <td>0.360641</td>\n",
       "      <td>4</td>\n",
       "    </tr>\n",
       "    <tr>\n",
       "      <th>484249</th>\n",
       "      <td>1329.0</td>\n",
       "      <td>985.0</td>\n",
       "      <td>65.0</td>\n",
       "      <td>0.697759</td>\n",
       "      <td>0.715998</td>\n",
       "      <td>0.548515</td>\n",
       "      <td>3</td>\n",
       "    </tr>\n",
       "    <tr>\n",
       "      <th>...</th>\n",
       "      <td>...</td>\n",
       "      <td>...</td>\n",
       "      <td>...</td>\n",
       "      <td>...</td>\n",
       "      <td>...</td>\n",
       "      <td>...</td>\n",
       "      <td>...</td>\n",
       "    </tr>\n",
       "    <tr>\n",
       "      <th>323210</th>\n",
       "      <td>654.0</td>\n",
       "      <td>860.0</td>\n",
       "      <td>85.0</td>\n",
       "      <td>0.697759</td>\n",
       "      <td>0.439931</td>\n",
       "      <td>0.492255</td>\n",
       "      <td>2</td>\n",
       "    </tr>\n",
       "    <tr>\n",
       "      <th>298200</th>\n",
       "      <td>221.0</td>\n",
       "      <td>1245.0</td>\n",
       "      <td>122.0</td>\n",
       "      <td>0.339290</td>\n",
       "      <td>0.532920</td>\n",
       "      <td>0.486322</td>\n",
       "      <td>6</td>\n",
       "    </tr>\n",
       "    <tr>\n",
       "      <th>5389</th>\n",
       "      <td>4249.0</td>\n",
       "      <td>810.0</td>\n",
       "      <td>110.0</td>\n",
       "      <td>0.397660</td>\n",
       "      <td>0.338689</td>\n",
       "      <td>0.351793</td>\n",
       "      <td>7</td>\n",
       "    </tr>\n",
       "    <tr>\n",
       "      <th>227713</th>\n",
       "      <td>755.0</td>\n",
       "      <td>1150.0</td>\n",
       "      <td>121.0</td>\n",
       "      <td>0.566199</td>\n",
       "      <td>0.484483</td>\n",
       "      <td>0.383769</td>\n",
       "      <td>7</td>\n",
       "    </tr>\n",
       "    <tr>\n",
       "      <th>280507</th>\n",
       "      <td>1615.0</td>\n",
       "      <td>505.0</td>\n",
       "      <td>129.0</td>\n",
       "      <td>0.335971</td>\n",
       "      <td>0.388235</td>\n",
       "      <td>0.319799</td>\n",
       "      <td>4</td>\n",
       "    </tr>\n",
       "  </tbody>\n",
       "</table>\n",
       "<p>107877 rows × 7 columns</p>\n",
       "</div>"
      ],
      "text/plain": [
       "        Flight    Time  Length   Airline  AirportFrom  AirportTo  DayOfWeek\n",
       "269197  3117.0  1170.0    77.0  0.378944     0.490024   0.315648          3\n",
       "487507  4282.0   680.0    83.0  0.397660     0.286853   0.344341          5\n",
       "524606   645.0   555.0   165.0  0.388470     0.414776   0.436310          4\n",
       "502146  3975.0   660.0   105.0  0.348104     0.479655   0.360641          4\n",
       "484249  1329.0   985.0    65.0  0.697759     0.715998   0.548515          3\n",
       "...        ...     ...     ...       ...          ...        ...        ...\n",
       "323210   654.0   860.0    85.0  0.697759     0.439931   0.492255          2\n",
       "298200   221.0  1245.0   122.0  0.339290     0.532920   0.486322          6\n",
       "5389    4249.0   810.0   110.0  0.397660     0.338689   0.351793          7\n",
       "227713   755.0  1150.0   121.0  0.566199     0.484483   0.383769          7\n",
       "280507  1615.0   505.0   129.0  0.335971     0.388235   0.319799          4\n",
       "\n",
       "[107877 rows x 7 columns]"
      ]
     },
     "execution_count": 101,
     "metadata": {},
     "output_type": "execute_result"
    }
   ],
   "source": [
    "X_test"
   ]
  },
  {
   "cell_type": "code",
   "execution_count": 92,
   "id": "442f5625",
   "metadata": {},
   "outputs": [],
   "source": [
    "clf = RandomForestClassifier()"
   ]
  },
  {
   "cell_type": "code",
   "execution_count": 93,
   "id": "b3d3caa3",
   "metadata": {},
   "outputs": [
    {
     "data": {
      "text/plain": [
       "RandomForestClassifier()"
      ]
     },
     "execution_count": 93,
     "metadata": {},
     "output_type": "execute_result"
    }
   ],
   "source": [
    "clf.fit(X_train, y_train)"
   ]
  },
  {
   "cell_type": "code",
   "execution_count": 94,
   "id": "2baa8b4b",
   "metadata": {},
   "outputs": [],
   "source": [
    "y_proba = clf.predict_proba(X_test)[:, 1]"
   ]
  },
  {
   "cell_type": "code",
   "execution_count": 95,
   "id": "30ba4049",
   "metadata": {},
   "outputs": [
    {
     "name": "stdout",
     "output_type": "stream",
     "text": [
      "[0. 1. 1. ... 0. 0. 0.]\n"
     ]
    },
    {
     "data": {
      "image/png": "[encoded data removed]",
      "text/plain": [
       "<Figure size 432x288 with 1 Axes>"
      ]
     },
     "metadata": {
      "needs_background": "light"
     },
     "output_type": "display_data"
    },
    {
     "data": {
      "image/png": "[encoded data removed]",
      "text/plain": [
       "<Figure size 432x288 with 1 Axes>"
      ]
     },
     "metadata": {
      "needs_background": "light"
     },
     "output_type": "display_data"
    },
    {
     "name": "stdout",
     "output_type": "stream",
     "text": [
      "gini_doge = 0.3180925381460846\n",
      "gini_sklearn = 0.31808532504450704\n",
      "abs = 7.21310157758559e-06\n"
     ]
    }
   ],
   "source": [
    "goeGINI(y_test, y_proba)"
   ]
  },
  {
   "cell_type": "code",
   "execution_count": null,
   "id": "eb04ba8d",
   "metadata": {},
   "outputs": [],
   "source": []
  }
 ],
 "metadata": {
  "kernelspec": {
   "display_name": "Python 3 (ipykernel)",
   "language": "python",
   "name": "python3"
  },
  "language_info": {
   "codemirror_mode": {
    "name": "ipython",
    "version": 3
   },
   "file_extension": ".py",
   "mimetype": "text/x-python",
   "name": "python",
   "nbconvert_exporter": "python",
   "pygments_lexer": "ipython3",
   "version": "3.10.2"
  }
 },
 "nbformat": 4,
 "nbformat_minor": 5
}
