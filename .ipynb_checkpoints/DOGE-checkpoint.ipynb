{
 "cells": [
  {
   "cell_type": "code",
   "execution_count": 1,
   "id": "472fcfe8",
   "metadata": {},
   "outputs": [],
   "source": [
    "import pandas as pd\n",
    "from copy import deepcopy\n",
    "from sklearn.model_selection import train_test_split\n",
    "from sklearn.preprocessing import StandardScaler, MinMaxScaler\n",
    "from sklearn.preprocessing import FunctionTransformer\n",
    "from sklearn.pipeline import Pipeline\n",
    "from sklearn.linear_model import LogisticRegression\n",
    "from sklearn.metrics import roc_auc_score\n",
    "import numpy as np\n",
    "import matplotlib.pyplot as plt\n",
    "import warnings\n",
    "\n",
    "\n",
    "warnings.filterwarnings('ignore')"
   ]
  },
  {
   "cell_type": "code",
   "execution_count": 2,
   "id": "e06220d6",
   "metadata": {},
   "outputs": [],
   "source": [
    "# init df\n",
    "df = pd.read_csv('https://raw.githubusercontent.com/iad34/seminars/master/materials/data_sem1.csv', sep=';')"
   ]
  },
  {
   "cell_type": "code",
   "execution_count": 3,
   "id": "9b79292c",
   "metadata": {},
   "outputs": [],
   "source": [
    "# preprocess data\n",
    "cols = list(df.columns)\n",
    "a, b = cols.index('Survived'), cols.index('Embarked')\n",
    "cols[b], cols[a] = cols[a], cols[b]\n",
    "df = df[cols]\n",
    "\n",
    "df.drop([\"Embarked\", \"PassengerId\", \"Cabin\", \"Ticket\", \"Name\"], axis=1, inplace=True)\n",
    "\n",
    "df = df.replace({'Sex': {'female': 0, 'male': 1}})\n",
    "\n",
    "df = df.drop(df[(df.Sex == 'unknown') | (df.Age == 'NaN')].index)\n",
    "\n",
    "df = df.dropna()\n",
    "\n",
    "df = df.reset_index(drop=True)\n",
    "\n",
    "cols = list(df.columns)\n",
    "a, b = cols.index('Pclass'), cols.index('Age')\n",
    "cols[b], cols[a] = cols[a], cols[b]\n",
    "df = df[cols]\n",
    "\n",
    "cols = list(df.columns)\n",
    "a, b = cols.index('Fare'), cols.index('Sex')\n",
    "cols[b], cols[a] = cols[a], cols[b]\n",
    "df = df[cols]\n",
    "\n",
    "\n",
    "train_df, test_df = train_test_split(df, test_size=0.2)\n",
    "\n",
    "x_train, y_train = train_df.to_numpy()[:,:-1], train_df.to_numpy()[:,-1]\n",
    "x_test, y_test = test_df.to_numpy()[:,:-1], test_df.to_numpy()[:,-1]\n",
    "\n",
    "\n",
    "std_scaler = StandardScaler().fit(x_train[:, :2])\n",
    "minmax_scaler = MinMaxScaler().fit(x_train[:, 2:])\n",
    "\n",
    "def preprocessor(X):\n",
    "    A = deepcopy(X)\n",
    "    A[:, :2] = std_scaler.transform(X[:, :2])\n",
    "    A[:, 2:] = minmax_scaler.transform(X[:, 2:])\n",
    "    return A\n",
    "\n",
    "preprocessor_transformer = FunctionTransformer(preprocessor)\n",
    "\n",
    "p1 = Pipeline([('Scaler', preprocessor_transformer),\n",
    "              ('Logistic Regression', LogisticRegression())])\n",
    "\n",
    "y_train=y_train.astype('int')"
   ]
  },
  {
   "cell_type": "code",
   "execution_count": 4,
   "id": "33ed4a16",
   "metadata": {},
   "outputs": [],
   "source": [
    "# training model\n",
    "p1.fit(x_train, y_train)\n",
    "train_pred_prob = p1.predict_proba(x_train)\n",
    "train_pred = p1.predict(x_train)\n",
    "test_pred = p1.predict(x_test)\n",
    "train_pred_prob = train_pred_prob[:, 1]"
   ]
  },
  {
   "cell_type": "code",
   "execution_count": 5,
   "id": "eb525df6",
   "metadata": {},
   "outputs": [],
   "source": [
    "# preparing to ROC\n",
    "final_prob_target_and_class = np.column_stack([train_pred_prob.T, train_pred.T, y_train.T]).astype(float)\n",
    "\n",
    "final_prob_target_and_class = final_prob_target_and_class[np.argsort(final_prob_target_and_class[:, 0])][::-1]\n",
    "\n",
    "match = np.zeros((final_prob_target_and_class.shape[0],))\n",
    "\n",
    "for i in range(final_prob_target_and_class.shape[0]):\n",
    "    match[i] = final_prob_target_and_class[i, 2]\n",
    "\n",
    "n = match.sum().astype(int)\n",
    "m = (match.shape[0]-n).astype(int)\n",
    "\n",
    "coord_y = np.linspace(0, 1, num = n+1)\n",
    "coord_x = np.linspace(0, 1, num = m+1)\n",
    "coords = np.zeros((n+m+1, 2))\n",
    "\n",
    "h_i = w_i = 0\n",
    "coords[0] = coord_x[0], coord_y[0]\n",
    "for i in range(1, n+m):\n",
    "    if match[i-1] == 1:\n",
    "        h_i += 1\n",
    "    else:\n",
    "        w_i += 1\n",
    "    coords[i] = coord_x[w_i], coord_y[h_i]\n",
    "\n",
    "coords[-1] = 1, 1"
   ]
  },
  {
   "cell_type": "code",
   "execution_count": 6,
   "id": "3c26a5a1",
   "metadata": {},
   "outputs": [
    {
     "data": {
      "text/plain": [
       "<matplotlib.collections.PathCollection at 0x24051d90f10>"
      ]
     },
     "execution_count": 6,
     "metadata": {},
     "output_type": "execute_result"
    },
    {
     "data": {
      "image/png": "[encoded data removed]",
      "text/plain": [
       "<Figure size 432x288 with 1 Axes>"
      ]
     },
     "metadata": {
      "needs_background": "light"
     },
     "output_type": "display_data"
    }
   ],
   "source": [
    "# ROC\n",
    "plt.scatter(coords[:, 0], coords[:, 1], marker = \",\")"
   ]
  },
  {
   "cell_type": "code",
   "execution_count": 7,
   "id": "508ad80a",
   "metadata": {},
   "outputs": [],
   "source": [
    "# fit polynomial w/ high degree\n",
    "deg = 200\n",
    "z = np.polyfit(coords[:, 0], coords[:, 1], deg)"
   ]
  },
  {
   "cell_type": "code",
   "execution_count": 8,
   "id": "c3407f98",
   "metadata": {},
   "outputs": [],
   "source": [
    "x = np.array(coords[:, 0])\n",
    "y = np.zeros((len(coords[:, 0],))) \n",
    "\n",
    "for i in range(len(x)):\n",
    "    for j in range(deg+1):\n",
    "        y[i] += (z[j] * (x[i] ** (deg - j)))  "
   ]
  },
  {
   "cell_type": "code",
   "execution_count": 9,
   "id": "3d417dd1",
   "metadata": {},
   "outputs": [
    {
     "data": {
      "text/plain": [
       "[<matplotlib.lines.Line2D at 0x24053f198d0>]"
      ]
     },
     "execution_count": 9,
     "metadata": {},
     "output_type": "execute_result"
    },
    {
     "data": {
      "image/png": "[encoded data removed]",
      "text/plain": [
       "<Figure size 432x288 with 1 Axes>"
      ]
     },
     "metadata": {
      "needs_background": "light"
     },
     "output_type": "display_data"
    }
   ],
   "source": [
    "y = y.clip(min=0, max=1)\n",
    "plt.plot(x, y)\n",
    "plt.plot(coords[:, 0], coords[:, 1])"
   ]
  },
  {
   "cell_type": "code",
   "execution_count": 10,
   "id": "69a224a2",
   "metadata": {},
   "outputs": [],
   "source": [
    "# count integral\n",
    "aucroc = 0\n",
    "for i in range(deg+1):\n",
    "    aucroc += z[i]/(deg-i+1)"
   ]
  },
  {
   "cell_type": "code",
   "execution_count": 11,
   "id": "ed9fe4ef",
   "metadata": {},
   "outputs": [
    {
     "name": "stdout",
     "output_type": "stream",
     "text": [
      "gini_doge = 0.7019303865751625\n",
      "gini_sklearn = 0.7019241982507289\n",
      "abs = 6.18832443355366e-06\n"
     ]
    }
   ],
   "source": [
    "# compare w/ sklearn gini\n",
    "gini_doge = 2 * aucroc - 1\n",
    "gini_sklearn = 2 * roc_auc_score(final_prob_target_and_class[:, 2], final_prob_target_and_class[:, 0]) - 1 \n",
    "print(f\"gini_doge = {gini_doge}\\ngini_sklearn = {gini_sklearn}\\nabs = {abs(gini_sklearn-gini_doge)}\")"
   ]
  }
 ],
 "metadata": {
  "kernelspec": {
   "display_name": "Python 3 (ipykernel)",
   "language": "python",
   "name": "python3"
  },
  "language_info": {
   "codemirror_mode": {
    "name": "ipython",
    "version": 3
   },
   "file_extension": ".py",
   "mimetype": "text/x-python",
   "name": "python",
   "nbconvert_exporter": "python",
   "pygments_lexer": "ipython3",
   "version": "3.10.2"
  }
 },
 "nbformat": 4,
 "nbformat_minor": 5
}
